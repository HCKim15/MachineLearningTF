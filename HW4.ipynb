{
 "cells": [
  {
   "cell_type": "markdown",
   "metadata": {},
   "source": [
    "# Healthcare data: Vitamin D and Osteoporosis\n",
    "\n"
   ]
  },
  {
   "cell_type": "code",
   "execution_count": 1,
   "metadata": {},
   "outputs": [],
   "source": [
    "# Importing the libraries\n",
    "from numpy import loadtxt\n",
    "import numpy as np\n",
    "import tensorflow as tf\n",
    "from keras.models import Sequential\n",
    "from keras.layers import Dense\n",
    "from keras.layers import Dropout\n",
    "from tensorflow.keras.layers.experimental import preprocessing"
   ]
  },
  {
   "cell_type": "code",
   "execution_count": 2,
   "metadata": {},
   "outputs": [
    {
     "name": "stdout",
     "output_type": "stream",
     "text": [
      "(7000, 4)\n",
      "(7000,)\n"
     ]
    }
   ],
   "source": [
    "# load the dataset\n",
    "dataset_train = loadtxt('healthTrain.csv', delimiter=',')\n",
    "# split into input (X) and output (y) variables\n",
    "x_train = dataset_train[:,0:4]\n",
    "y_train = dataset_train[:,4]\n",
    "print(x_train.shape)\n",
    "print(y_train.shape)"
   ]
  },
  {
   "cell_type": "code",
   "execution_count": 3,
   "metadata": {},
   "outputs": [
    {
     "name": "stdout",
     "output_type": "stream",
     "text": [
      "[ 0.51271427 50.356857   60.863575    9.411029  ]\n"
     ]
    }
   ],
   "source": [
    "# normalization \n",
    "normalizer = preprocessing.Normalization()\n",
    "normalizer.adapt(np.array(x_train))\n",
    "print(normalizer.mean.numpy())"
   ]
  },
  {
   "cell_type": "code",
   "execution_count": null,
   "metadata": {},
   "outputs": [],
   "source": [
    "# Problem 1(a) (b)\n",
    "# construct the model using the following codes\n",
    "#model = tf.keras.models.Sequential([\n",
    "#  normalizer,\n",
    "#  tf.keras.layers.Dense(??, activation='??'),\n",
    "#  tf.keras.layers.Dense(??, activation='??'),\n",
    "#  tf.keras.layers.Dropout(??),\n",
    "#  tf.keras.layers.Dense(??, activation='sigmoid')\n",
    "#])\n",
    "\n"
   ]
  },
  {
   "cell_type": "code",
   "execution_count": null,
   "metadata": {},
   "outputs": [],
   "source": [
    "# Problem 1(c)\n",
    "# Compiling the model\n",
    "#model.compile(loss='binary_crossentropy', optimizer='adam', metrics=['accuracy'])\n",
    "\n",
    "# Fitting the neural network to the training set\n",
    "#model.fit(x_train, y_train, epochs = ??)"
   ]
  }
 ],
 "metadata": {
  "kernelspec": {
   "display_name": "Python 3",
   "language": "python",
   "name": "python3"
  },
  "language_info": {
   "codemirror_mode": {
    "name": "ipython",
    "version": 3
   },
   "file_extension": ".py",
   "mimetype": "text/x-python",
   "name": "python",
   "nbconvert_exporter": "python",
   "pygments_lexer": "ipython3",
   "version": "3.7.7"
  }
 },
 "nbformat": 4,
 "nbformat_minor": 2
}
