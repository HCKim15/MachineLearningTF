{
 "cells": [
  {
   "cell_type": "markdown",
   "metadata": {},
   "source": [
    "\n",
    "# HW4 \n"
   ]
  },
  {
   "cell_type": "code",
   "execution_count": 7,
   "metadata": {},
   "outputs": [],
   "source": [
    "# Importing the libraries\n",
    "from numpy import loadtxt\n",
    "import numpy as np\n",
    "import pandas as pd\n",
    "import tensorflow as tf\n",
    "from keras.models import Sequential\n",
    "from keras.layers import Dense\n",
    "from keras.layers import Dropout\n",
    "from tensorflow.keras.layers.experimental import preprocessing"
   ]
  },
  {
   "cell_type": "code",
   "execution_count": 16,
   "metadata": {},
   "outputs": [
    {
     "name": "stdout",
     "output_type": "stream",
     "text": [
      "(303, 13)\n",
      "(303,)\n"
     ]
    }
   ],
   "source": [
    "# load the dataset\n",
    "dataset_train = pd.read_csv('heart.csv')\n",
    "# split into input (X) and output (y) variables\n",
    "x_train = dataset_train.iloc[:,0:13]\n",
    "y_train = dataset_train.iloc[:,13]\n",
    "print(x_train.shape)\n",
    "print(y_train.shape)"
   ]
  },
  {
   "cell_type": "code",
   "execution_count": 17,
   "metadata": {},
   "outputs": [
    {
     "name": "stdout",
     "output_type": "stream",
     "text": [
      "[5.4366337e+01 6.8316829e-01 9.6699673e-01 1.3162376e+02 2.4626402e+02\n",
      " 1.4851485e-01 5.2805281e-01 1.4964687e+02 3.2673267e-01 1.0396039e+00\n",
      " 1.3993399e+00 7.2937292e-01 2.3135314e+00]\n"
     ]
    }
   ],
   "source": [
    "# normalization \n",
    "normalizer = preprocessing.Normalization()\n",
    "normalizer.adapt(np.array(x_train))\n",
    "print(normalizer.mean.numpy())"
   ]
  },
  {
   "cell_type": "code",
   "execution_count": 50,
   "metadata": {},
   "outputs": [],
   "source": [
    "\n",
    "# construct the model using the following codes\n",
    "model = tf.keras.models.Sequential([\n",
    "  normalizer,\n",
    "  tf.keras.layers.Dense(4, activation='relu'),\n",
    "  tf.keras.layers.Dense(5, activation='tanh'),\n",
    "  tf.keras.layers.Dense(5, activation='relu'),\n",
    "  tf.keras.layers.Dense(5, activation='sigmoid'),\n",
    "  tf.keras.layers.Dropout(.2),\n",
    "  tf.keras.layers.Dense(1, activation='sigmoid')\n",
    "])\n",
    "\n"
   ]
  },
  {
   "cell_type": "code",
   "execution_count": 51,
   "metadata": {},
   "outputs": [
    {
     "name": "stdout",
     "output_type": "stream",
     "text": [
      "Model: \"sequential_8\"\n",
      "_________________________________________________________________\n",
      "Layer (type)                 Output Shape              Param #   \n",
      "=================================================================\n",
      "normalization (Normalization (None, 13)                27        \n",
      "_________________________________________________________________\n",
      "dense_30 (Dense)             (None, 4)                 56        \n",
      "_________________________________________________________________\n",
      "dense_31 (Dense)             (None, 5)                 25        \n",
      "_________________________________________________________________\n",
      "dense_32 (Dense)             (None, 5)                 30        \n",
      "_________________________________________________________________\n",
      "dense_33 (Dense)             (None, 5)                 30        \n",
      "_________________________________________________________________\n",
      "dropout_8 (Dropout)          (None, 5)                 0         \n",
      "_________________________________________________________________\n",
      "dense_34 (Dense)             (None, 1)                 6         \n",
      "=================================================================\n",
      "Total params: 174\n",
      "Trainable params: 147\n",
      "Non-trainable params: 27\n",
      "_________________________________________________________________\n"
     ]
    }
   ],
   "source": [
    "model.summary()"
   ]
  },
  {
   "cell_type": "code",
   "execution_count": 52,
   "metadata": {},
   "outputs": [],
   "source": [
    "# Problem 1(c)\n",
    "# Compiling the model\n",
    "model.compile(loss='binary_crossentropy', optimizer='adam', metrics=['accuracy'])\n",
    "\n",
    "\n"
   ]
  },
  {
   "cell_type": "code",
   "execution_count": 53,
   "metadata": {},
   "outputs": [
    {
     "name": "stdout",
     "output_type": "stream",
     "text": [
      "Epoch 1/5\n",
      "10/10 [==============================] - 0s 1ms/step - loss: 0.7116 - accuracy: 0.4477\n",
      "Epoch 2/5\n",
      "10/10 [==============================] - 0s 1ms/step - loss: 0.7065 - accuracy: 0.4307\n",
      "Epoch 3/5\n",
      "10/10 [==============================] - 0s 1ms/step - loss: 0.7159 - accuracy: 0.4483\n",
      "Epoch 4/5\n",
      "10/10 [==============================] - 0s 884us/step - loss: 0.6947 - accuracy: 0.5025\n",
      "Epoch 5/5\n",
      "10/10 [==============================] - 0s 825us/step - loss: 0.6782 - accuracy: 0.5475\n"
     ]
    },
    {
     "data": {
      "text/plain": [
       "<tensorflow.python.keras.callbacks.History at 0x7fa838b68090>"
      ]
     },
     "execution_count": 53,
     "metadata": {},
     "output_type": "execute_result"
    }
   ],
   "source": [
    "# Fitting the neural network to the training set\n",
    "model.fit(x_train, y_train, epochs = 5)"
   ]
  },
  {
   "cell_type": "code",
   "execution_count": 22,
   "metadata": {},
   "outputs": [
    {
     "name": "stdout",
     "output_type": "stream",
     "text": [
      "96/96 - 0s - loss: 0.3853 - accuracy: 0.9471\n",
      "\n",
      "Accuracy: 0.9471451640129089\n"
     ]
    }
   ],
   "source": [
    "test_loss, test_acc = model.evaluate(x_test, y_test, verbose=2)\n",
    "print('\\nAccuracy:', test_acc)"
   ]
  },
  {
   "cell_type": "code",
   "execution_count": null,
   "metadata": {},
   "outputs": [],
   "source": []
  }
 ],
 "metadata": {
  "kernelspec": {
   "display_name": "Python 3",
   "language": "python",
   "name": "python3"
  },
  "language_info": {
   "codemirror_mode": {
    "name": "ipython",
    "version": 3
   },
   "file_extension": ".py",
   "mimetype": "text/x-python",
   "name": "python",
   "nbconvert_exporter": "python",
   "pygments_lexer": "ipython3",
   "version": "3.7.7"
  }
 },
 "nbformat": 4,
 "nbformat_minor": 2
}
